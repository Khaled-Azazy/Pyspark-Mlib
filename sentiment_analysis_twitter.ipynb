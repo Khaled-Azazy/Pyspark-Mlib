{
 "cells": [
  {
   "cell_type": "code",
   "execution_count": 1,
   "id": "64e4b558-168a-41e0-90f9-d22ebd3f49b5",
   "metadata": {},
   "outputs": [
    {
     "name": "stdout",
     "output_type": "stream",
     "text": [
      "You are working with 1 core(s)\n"
     ]
    },
    {
     "data": {
      "text/html": [
       "\n",
       "            <div>\n",
       "                <p><b>SparkSession - in-memory</b></p>\n",
       "                \n",
       "        <div>\n",
       "            <p><b>SparkContext</b></p>\n",
       "\n",
       "            <p><a href=\"http://595eada80f82:4041\">Spark UI</a></p>\n",
       "\n",
       "            <dl>\n",
       "              <dt>Version</dt>\n",
       "                <dd><code>v3.3.1</code></dd>\n",
       "              <dt>Master</dt>\n",
       "                <dd><code>local[*]</code></dd>\n",
       "              <dt>AppName</dt>\n",
       "                <dd><code>sentiment_analysis_using_twitter</code></dd>\n",
       "            </dl>\n",
       "        </div>\n",
       "        \n",
       "            </div>\n",
       "        "
      ],
      "text/plain": [
       "<pyspark.sql.session.SparkSession at 0x7efde0abc4f0>"
      ]
     },
     "execution_count": 1,
     "metadata": {},
     "output_type": "execute_result"
    }
   ],
   "source": [
    "# First let's create our PySpark instance\n",
    "# import findspark\n",
    "# findspark.init()\n",
    "\n",
    "import pyspark # only run after findspark.init()\n",
    "from pyspark.sql import SparkSession\n",
    "# May take awhile locally\n",
    "spark = SparkSession.builder.appName(\"sentiment_analysis_using_twitter\").getOrCreate()\n",
    "\n",
    "cores = spark._jsc.sc().getExecutorMemoryStatus().keySet().size()\n",
    "print(\"You are working with\", cores, \"core(s)\")\n",
    "spark"
   ]
  },
  {
   "cell_type": "code",
   "execution_count": 2,
   "id": "f3a42dad-c91a-48dc-a5cc-7e16b002bb1e",
   "metadata": {},
   "outputs": [],
   "source": [
    "from pyspark.ml.feature import * #CountVectorizer,StringIndexer, RegexTokenizer,StopWordsRemover\n",
    "from pyspark.sql.functions import * #col, udf,regexp_replace,isnull\n",
    "from pyspark.sql.types import * #StringType,IntegerType\n",
    "from pyspark.ml.classification import *\n",
    "from pyspark.ml.evaluation import *\n",
    "from pyspark.ml.tuning import CrossValidator, ParamGridBuilder\n",
    "\n",
    "# For pipeline development\n",
    "from pyspark.ml import Pipeline "
   ]
  },
  {
   "cell_type": "markdown",
   "id": "810ce3f2-4ce1-4a0b-88f9-0ca170558ff0",
   "metadata": {},
   "source": [
    "# the coming cell is just for testing if the model works"
   ]
  },
  {
   "cell_type": "code",
   "execution_count": 3,
   "id": "4cd54f4b-4459-4772-9b9a-523b0f4e3977",
   "metadata": {},
   "outputs": [
    {
     "name": "stdout",
     "output_type": "stream",
     "text": [
      "+--------------------+\n",
      "|                text|\n",
      "+--------------------+\n",
      "|Hello I love this...|\n",
      "+--------------------+\n",
      "\n",
      "None\n",
      "+--------------------+---------+\n",
      "|                text|sentiment|\n",
      "+--------------------+---------+\n",
      "|Hello I love this...|   0.6369|\n",
      "+--------------------+---------+\n",
      "\n"
     ]
    }
   ],
   "source": [
    "from pyspark.sql.functions import udf\n",
    "from pyspark.sql.types import StringType\n",
    "from vaderSentiment.vaderSentiment import SentimentIntensityAnalyzer\n",
    "from pyspark.sql.functions import col\n",
    "from pyspark.ml.feature import Tokenizer\n",
    "# Load the pre-trained sentiment analysis model\n",
    "analyzer = SentimentIntensityAnalyzer()\n",
    "\n",
    "# Load the dataset\n",
    "data_string = \"Hello I love this world so much #lovelive #hey\"\n",
    "\n",
    "# Create a tuple representing the row\n",
    "row = (data_string,)\n",
    "\n",
    "# Create a PySpark DataFrame with one row\n",
    "df = spark.createDataFrame([row], [\"text\"])\n",
    "print(df.show())\n",
    "# Preprocess the text column in the dataset\n",
    "tokenizer = Tokenizer(inputCol=\"text\", outputCol=\"words\")\n",
    "df = tokenizer.transform(df)\n",
    "\n",
    "remover = StopWordsRemover(inputCol=\"words\", outputCol=\"filtered\")\n",
    "df = remover.transform(df)\n",
    "\n",
    "\n",
    "# Define a UDF to apply the sentiment analysis model to each text\n",
    "def analyze_sentiment(text):\n",
    "    score = analyzer.polarity_scores(text)\n",
    "    return score['compound']\n",
    "\n",
    "sentiment_udf = udf(analyze_sentiment, StringType())\n",
    "\n",
    "# Apply the sentiment analysis model to the text column\n",
    "df = df.withColumn(\"sentiment\", sentiment_udf(df[\"text\"]))\n",
    "\n",
    "# Output the sentiment analysis results\n",
    "df.select(\"text\", \"sentiment\").show()\n"
   ]
  },
  {
   "cell_type": "code",
   "execution_count": 4,
   "id": "fb018431-6a91-40b7-be1e-b061ecaeac2e",
   "metadata": {},
   "outputs": [],
   "source": [
    "# read the tweet data from socket\n",
    "tweet_df = spark \\\n",
    "    .readStream \\\n",
    "    .format(\"socket\") \\\n",
    "    .option(\"host\", \"127.0.0.1\") \\\n",
    "    .option(\"port\", 1234) \\\n",
    "    .load()\n",
    "\n",
    "# type cast the column value\n",
    "tweet_df_string = tweet_df.selectExpr(\"CAST(value AS STRING)\")"
   ]
  },
  {
   "cell_type": "code",
   "execution_count": 5,
   "id": "2b7cd024-6a9f-44b1-a340-918113c85f9f",
   "metadata": {},
   "outputs": [],
   "source": [
    "def get_label(value):\n",
    "    if value > 0:\n",
    "        return True\n",
    "    return False\n",
    "pred_udf = udf(get_label, BooleanType())"
   ]
  },
  {
   "cell_type": "code",
   "execution_count": 6,
   "id": "3ef13135-134c-4db1-b157-dc67acd90354",
   "metadata": {},
   "outputs": [],
   "source": [
    "tweets_tab = tweet_df_string.withColumn('sentiment', sentiment_udf(col('value'))) \\\n",
    "                            .withColumn('prediction', pred_udf(col('sentiment'))) \\\n",
    "                            .filter(col('value') != '') \\\n",
    "                            .select(['sentiment', 'prediction']) \\\n",
    "                            .groupby('prediction').agg({'prediction' :'count', 'sentiment' :'mean'})"
   ]
  },
  {
   "cell_type": "code",
   "execution_count": 7,
   "id": "cc070ff5-2f87-4d99-9f69-2faa5877cb5b",
   "metadata": {},
   "outputs": [
    {
     "name": "stdout",
     "output_type": "stream",
     "text": [
      "----- streaming is running -------\n"
     ]
    }
   ],
   "source": [
    "writeTweet = tweets_tab.writeStream. \\\n",
    "    outputMode(\"complete\"). \\\n",
    "    format(\"memory\"). \\\n",
    "    queryName(\"tweetquery\"). \\\n",
    "    trigger(processingTime='1 seconds'). \\\n",
    "    start()\n",
    "\n",
    "print(\"----- streaming is running -------\")"
   ]
  },
  {
   "cell_type": "code",
   "execution_count": 12,
   "id": "1c5fdafb-28bb-4b28-8112-b3e5a88148d2",
   "metadata": {},
   "outputs": [
    {
     "data": {
      "text/html": [
       "<div>\n",
       "<style scoped>\n",
       "    .dataframe tbody tr th:only-of-type {\n",
       "        vertical-align: middle;\n",
       "    }\n",
       "\n",
       "    .dataframe tbody tr th {\n",
       "        vertical-align: top;\n",
       "    }\n",
       "\n",
       "    .dataframe thead th {\n",
       "        text-align: right;\n",
       "    }\n",
       "</style>\n",
       "<table border=\"1\" class=\"dataframe\">\n",
       "  <thead>\n",
       "    <tr style=\"text-align: right;\">\n",
       "      <th></th>\n",
       "      <th>prediction</th>\n",
       "      <th>avg(sentiment)</th>\n",
       "      <th>count(prediction)</th>\n",
       "    </tr>\n",
       "  </thead>\n",
       "  <tbody>\n",
       "    <tr>\n",
       "      <th>0</th>\n",
       "      <td>True</td>\n",
       "      <td>0.565233</td>\n",
       "      <td>3</td>\n",
       "    </tr>\n",
       "    <tr>\n",
       "      <th>1</th>\n",
       "      <td>False</td>\n",
       "      <td>-0.106525</td>\n",
       "      <td>4</td>\n",
       "    </tr>\n",
       "  </tbody>\n",
       "</table>\n",
       "</div>"
      ],
      "text/plain": [
       "   prediction  avg(sentiment)  count(prediction)\n",
       "0        True        0.565233                  3\n",
       "1       False       -0.106525                  4"
      ]
     },
     "execution_count": 12,
     "metadata": {},
     "output_type": "execute_result"
    }
   ],
   "source": [
    "# Every time you run this cell, there will be fresh data!\n",
    "# And the streaming keeps running\n",
    "spark.sql(\"select * from tweetquery\").toPandas()"
   ]
  },
  {
   "cell_type": "code",
   "execution_count": 13,
   "id": "92a69a4e-4663-41f6-8418-45e20c5cf20a",
   "metadata": {},
   "outputs": [],
   "source": [
    "writeTweet.stop()"
   ]
  },
  {
   "cell_type": "code",
   "execution_count": null,
   "id": "96213fe7-1ac5-49e0-90f6-c9c24b31c1b2",
   "metadata": {},
   "outputs": [
    {
     "data": {
      "text/plain": [
       "{'message': 'Terminated with exception: Connection refused',\n",
       " 'isDataAvailable': False,\n",
       " 'isTriggerActive': False}"
      ]
     },
     "execution_count": 116,
     "metadata": {},
     "output_type": "execute_result"
    }
   ],
   "source": [
    "writeTweet.status"
   ]
  }
 ],
 "metadata": {
  "kernelspec": {
   "display_name": "Python 3 (ipykernel)",
   "language": "python",
   "name": "python3"
  },
  "language_info": {
   "codemirror_mode": {
    "name": "ipython",
    "version": 3
   },
   "file_extension": ".py",
   "mimetype": "text/x-python",
   "name": "python",
   "nbconvert_exporter": "python",
   "pygments_lexer": "ipython3",
   "version": "3.10.8"
  }
 },
 "nbformat": 4,
 "nbformat_minor": 5
}
