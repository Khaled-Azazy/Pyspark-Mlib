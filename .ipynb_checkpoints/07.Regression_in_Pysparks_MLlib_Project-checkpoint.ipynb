{
 "cells": [
  {
   "cell_type": "markdown",
   "metadata": {},
   "source": [
    "# Regression in PySpark's MLlib Project\n",
    "\n",
    "Now it's time to put what you've learned to into action with a REAL project! \n",
    "\n",
    "You have been hired as a consultant to a cement production company who wants to be able to improve their customer experience around a number of areas like being able to provide recommendations to cusomters on optimal amounts of certian ingredients in the cement making process and perhaps even create an application where users can input their own values and received a predicted cement strength!\n",
    "\n",
    "I have provided a list of question below to help guide you through this project but feel free to deviate and make this project your own! But first, a bit about this dataset.\n",
    "\n",
    "### About this dataset \n",
    "This dataset contains 1030 instances of concrete samples, containing 9 attributes (8 continuous and 1 discreate), and 1 continuous quantitative output variable. There are no missing attribute values.\n",
    "\n",
    "I've also provided the variable name, variable type, the measurement unit and a brief description of each variable in the dataset. The concrete compressive strength is the outcome variable for our analysis. The order of this listing corresponds to the order of numerals along the rows of the database.\n",
    "\n",
    "Name -- Data Type -- Measurement -- Description\n",
    "\n",
    "- Cement -- quantitative -- kg in a m3 mixture -- Input Variable \n",
    "- Blast Furnace Slag -- quantitative -- kg in a m3 mixture -- Input Variable \n",
    "- Fly Ash -- quantitative -- kg in a m3 mixture -- Input Variable \n",
    "- Water -- quantitative -- kg in a m3 mixture -- Input Variable \n",
    "- Superplasticizer -- quantitative -- kg in a m3 mixture -- Input Variable \n",
    "- Coarse Aggregate -- quantitative -- kg in a m3 mixture -- Input Variable \n",
    "- Fine Aggregate -- quantitative -- kg in a m3 mixture -- Input Variable \n",
    "- Age -- quantitative -- Day (1~365) -- Input Variable \n",
    "- Concrete compressive strength -- quantitative -- MPa -- Output Variable\n",
    "\n",
    "**Source:** https://www.kaggle.com/maajdl/yeh-concret-data\n",
    "\n",
    "**Dataset Name:** Concrete_Data.csv"
   ]
  },
  {
   "cell_type": "code",
   "execution_count": 135,
   "metadata": {},
   "outputs": [
    {
     "name": "stdout",
     "output_type": "stream",
     "text": [
      "You are working with 1 core(s)\n"
     ]
    },
    {
     "data": {
      "text/html": [
       "\n",
       "            <div>\n",
       "                <p><b>SparkSession - in-memory</b></p>\n",
       "                \n",
       "        <div>\n",
       "            <p><b>SparkContext</b></p>\n",
       "\n",
       "            <p><a href=\"http://595eada80f82:4041\">Spark UI</a></p>\n",
       "\n",
       "            <dl>\n",
       "              <dt>Version</dt>\n",
       "                <dd><code>v3.3.1</code></dd>\n",
       "              <dt>Master</dt>\n",
       "                <dd><code>local[*]</code></dd>\n",
       "              <dt>AppName</dt>\n",
       "                <dd><code>Regression</code></dd>\n",
       "            </dl>\n",
       "        </div>\n",
       "        \n",
       "            </div>\n",
       "        "
      ],
      "text/plain": [
       "<pyspark.sql.session.SparkSession at 0x7f406c4eba90>"
      ]
     },
     "execution_count": 135,
     "metadata": {},
     "output_type": "execute_result"
    }
   ],
   "source": [
    "# First let's create our PySpark instance\n",
    "# import findspark\n",
    "# findspark.init()\n",
    "\n",
    "import pyspark # only run after findspark.init()\n",
    "from pyspark.sql import SparkSession\n",
    "# May take awhile locally\n",
    "spark = SparkSession.builder.appName(\"Regression_project\").getOrCreate()\n",
    "\n",
    "cores = spark._jsc.sc().getExecutorMemoryStatus().keySet().size()\n",
    "print(\"You are working with\", cores, \"core(s)\")\n",
    "spark"
   ]
  },
  {
   "cell_type": "code",
   "execution_count": 136,
   "metadata": {},
   "outputs": [],
   "source": [
    "df = spark.read.csv('Concrete_Data_Yeh.csv',inferSchema=True,header=True)"
   ]
  },
  {
   "cell_type": "code",
   "execution_count": 137,
   "metadata": {},
   "outputs": [
    {
     "name": "stdout",
     "output_type": "stream",
     "text": [
      "+------+-----+------+-----+----------------+---------------+-------------+---+-----+\n",
      "|cement| slag|flyash|water|superplasticizer|coarseaggregate|fineaggregate|age|csMPa|\n",
      "+------+-----+------+-----+----------------+---------------+-------------+---+-----+\n",
      "| 540.0|  0.0|   0.0|162.0|             2.5|         1040.0|        676.0| 28|79.99|\n",
      "| 540.0|  0.0|   0.0|162.0|             2.5|         1055.0|        676.0| 28|61.89|\n",
      "| 332.5|142.5|   0.0|228.0|             0.0|          932.0|        594.0|270|40.27|\n",
      "| 332.5|142.5|   0.0|228.0|             0.0|          932.0|        594.0|365|41.05|\n",
      "| 198.6|132.4|   0.0|192.0|             0.0|          978.4|        825.5|360| 44.3|\n",
      "+------+-----+------+-----+----------------+---------------+-------------+---+-----+\n",
      "only showing top 5 rows\n",
      "\n"
     ]
    }
   ],
   "source": [
    "df.show(5)"
   ]
  },
  {
   "cell_type": "code",
   "execution_count": 138,
   "metadata": {},
   "outputs": [
    {
     "name": "stdout",
     "output_type": "stream",
     "text": [
      "root\n",
      " |-- cement: double (nullable = true)\n",
      " |-- slag: double (nullable = true)\n",
      " |-- flyash: double (nullable = true)\n",
      " |-- water: double (nullable = true)\n",
      " |-- superplasticizer: double (nullable = true)\n",
      " |-- coarseaggregate: double (nullable = true)\n",
      " |-- fineaggregate: double (nullable = true)\n",
      " |-- age: integer (nullable = true)\n",
      " |-- csMPa: double (nullable = true)\n",
      "\n"
     ]
    }
   ],
   "source": [
    "df.printSchema()"
   ]
  },
  {
   "cell_type": "code",
   "execution_count": 139,
   "metadata": {},
   "outputs": [
    {
     "name": "stdout",
     "output_type": "stream",
     "text": [
      "1030\n",
      "9\n"
     ]
    }
   ],
   "source": [
    "# Starting\n",
    "print(df.count())\n",
    "print(len(df.columns))"
   ]
  },
  {
   "cell_type": "code",
   "execution_count": 140,
   "metadata": {},
   "outputs": [
    {
     "data": {
      "text/plain": [
       "1030"
      ]
     },
     "execution_count": 140,
     "metadata": {},
     "output_type": "execute_result"
    }
   ],
   "source": [
    "#drop missing data\n",
    "df.na.drop().count()"
   ]
  },
  {
   "cell_type": "code",
   "execution_count": 141,
   "metadata": {},
   "outputs": [],
   "source": [
    "def MLRegressDFPrep(df,input_columns,dependent_var,treat_outliers=True):\n",
    "\n",
    "    renamed = df.withColumnRenamed(dependent_var,'label')\n",
    "    \n",
    "    # Make sure dependent variable is numeric and change if it's not\n",
    "    if str(renamed.schema['label'].dataType) != 'IntegerType':\n",
    "        renamed = renamed.withColumn(\"label\", renamed[\"label\"].cast(FloatType()))\n",
    "    \n",
    "   # Convert all string type data in the input column list to numeric\n",
    "    # Otherwise the Algorithm will not be able to process it\n",
    "    numeric_inputs = []\n",
    "    string_inputs = []\n",
    "    for column in input_columns:\n",
    "        if str(renamed.schema[column].dataType) == 'StringType':\n",
    "            new_col_name = column+\"_num\"\n",
    "            string_inputs.append(new_col_name)\n",
    "        else:\n",
    "            numeric_inputs.append(column)\n",
    "            indexed = renamed\n",
    "            \n",
    "    if len(string_inputs) != 0: # If the datafraem contains string types\n",
    "        for column in input_columns:\n",
    "            if str(renamed.schema[column].dataType) == 'StringType':\n",
    "                indexer = StringIndexer(inputCol=column, outputCol=column+\"_num\") \n",
    "                indexed = indexer.fit(renamed).transform(renamed)\n",
    "    else:\n",
    "        indexed = renamed\n",
    "        \n",
    "            \n",
    "    if treat_outliers == True:\n",
    "        print(\"We are correcting for non normality now!\")\n",
    "        # empty dictionary d\n",
    "        d = {}\n",
    "        # Create a dictionary of quantiles\n",
    "        for col in numeric_inputs: \n",
    "            d[col] = indexed.approxQuantile(col,[0.01,0.99],0.25) #if you want to make it go faster increase the last number\n",
    "        #Now fill in the values\n",
    "        for col in numeric_inputs:\n",
    "            skew = indexed.agg(skewness(indexed[col])).collect() #check for skewness\n",
    "            skew = skew[0][0]\n",
    "            # This function will floor, cap and then log+1 (just in case there are 0 values)\n",
    "            if skew > 1:\n",
    "                indexed = indexed.withColumn(col, \\\n",
    "                log(when(df[col] < d[col][0],d[col][0])\\\n",
    "                .when(indexed[col] > d[col][1], d[col][1])\\\n",
    "                .otherwise(indexed[col] ) +1).alias(col))\n",
    "                print(col+\" has been treated for positive (right) skewness. (skew =)\",skew,\")\")\n",
    "            elif skew < -1:\n",
    "                indexed = indexed.withColumn(col, \\\n",
    "                exp(when(df[col] < d[col][0],d[col][0])\\\n",
    "                .when(indexed[col] > d[col][1], d[col][1])\\\n",
    "                .otherwise(indexed[col] )).alias(col))\n",
    "                print(col+\" has been treated for negative (left) skewness. (skew =\",skew,\")\")\n",
    "                \n",
    "    # Vectorize your features\n",
    "    features_list = numeric_inputs + string_inputs\n",
    "    assembler = VectorAssembler(inputCols=features_list,outputCol='features')\n",
    "    final_data = assembler.transform(indexed).select('features','label')\n",
    "        \n",
    "    return final_data"
   ]
  },
  {
   "cell_type": "code",
   "execution_count": 142,
   "metadata": {},
   "outputs": [
    {
     "name": "stdout",
     "output_type": "stream",
     "text": [
      "We are correcting for non normality now!\n",
      "age has been treated for positive (right) skewness. (skew =) 3.2644145354168086 )\n",
      "+--------------------+-----+\n",
      "|            features|label|\n",
      "+--------------------+-----+\n",
      "|[540.0,0.0,0.0,16...|79.99|\n",
      "|[540.0,0.0,0.0,16...|61.89|\n",
      "|[332.5,142.5,0.0,...|40.27|\n",
      "|[332.5,142.5,0.0,...|41.05|\n",
      "|[198.6,132.4,0.0,...| 44.3|\n",
      "+--------------------+-----+\n",
      "only showing top 5 rows\n",
      "\n"
     ]
    }
   ],
   "source": [
    "from pyspark.ml.feature import VectorAssembler\n",
    "from pyspark.sql.types import * \n",
    "from pyspark.sql.functions import *\n",
    "from pyspark.ml.feature import StringIndexer\n",
    "from pyspark.ml.feature import MinMaxScaler\n",
    "\n",
    "input_columns = df.columns[:-1]\n",
    "dependent_var = 'csMPa'\n",
    "\n",
    "final_data = MLRegressDFPrep(df,input_columns,dependent_var)\n",
    "final_data.show(5)"
   ]
  },
  {
   "cell_type": "code",
   "execution_count": 143,
   "metadata": {},
   "outputs": [],
   "source": [
    "from pyspark.ml.stat import Correlation\n",
    "pearsonCorr = Correlation.corr(final_data, 'features', 'pearson').collect()[0][0]\n",
    "array = pearsonCorr.toArray()"
   ]
  },
  {
   "cell_type": "code",
   "execution_count": 144,
   "metadata": {},
   "outputs": [
    {
     "name": "stdout",
     "output_type": "stream",
     "text": [
      "[[ 1.         -0.27521591 -0.39746734 -0.08158675  0.09238617 -0.10934899\n",
      "  -0.22271785  0.00333903]\n",
      " [-0.27521591  1.         -0.3235799   0.10725203  0.04327042 -0.28399861\n",
      "  -0.28160267 -0.02088054]\n",
      " [-0.39746734 -0.3235799   1.         -0.25698402  0.37750315 -0.00996083\n",
      "   0.07910849 -0.01974459]\n",
      " [-0.08158675  0.10725203 -0.25698402  1.         -0.65753291 -0.1822936\n",
      "  -0.45066117  0.17021254]\n",
      " [ 0.09238617  0.04327042  0.37750315 -0.65753291  1.         -0.26599915\n",
      "   0.22269123 -0.04845305]\n",
      " [-0.10934899 -0.28399861 -0.00996083 -0.1822936  -0.26599915  1.\n",
      "  -0.17848096 -0.03813431]\n",
      " [-0.22271785 -0.28160267  0.07910849 -0.45066117  0.22269123 -0.17848096\n",
      "   1.         -0.1148533 ]\n",
      " [ 0.00333903 -0.02088054 -0.01974459  0.17021254 -0.04845305 -0.03813431\n",
      "  -0.1148533   1.        ]]\n"
     ]
    }
   ],
   "source": [
    "#for item in array:\n",
    "print(array)"
   ]
  },
  {
   "cell_type": "code",
   "execution_count": 145,
   "metadata": {},
   "outputs": [],
   "source": [
    "# so here we can "
   ]
  },
  {
   "cell_type": "code",
   "execution_count": 146,
   "metadata": {},
   "outputs": [],
   "source": [
    "train,test = final_data.randomSplit([0.8,0.2])"
   ]
  },
  {
   "cell_type": "code",
   "execution_count": 147,
   "metadata": {},
   "outputs": [],
   "source": [
    "# Dependencies for this section\n",
    "from pyspark.ml.regression import *\n",
    "from pyspark.ml.evaluation import *\n",
    "from pyspark.ml.tuning import CrossValidator, ParamGridBuilder\n",
    "# Fit our model\n",
    "regressor = LinearRegression()\n",
    "fitModel = regressor.fit(train)"
   ]
  },
  {
   "cell_type": "code",
   "execution_count": 148,
   "metadata": {},
   "outputs": [
    {
     "name": "stdout",
     "output_type": "stream",
     "text": [
      "Root Mean Squared Error (RMSE) on test data = 7.61354\n"
     ]
    }
   ],
   "source": [
    "# Make predictions.\n",
    "predictions = fitModel.transform(test)\n",
    "# Select (prediction, true label) and compute test error\n",
    "evaluator = RegressionEvaluator(metricName=\"rmse\")\n",
    "rmse = evaluator.evaluate(predictions)\n",
    "print(\"Root Mean Squared Error (RMSE) on test data = %g\" % rmse)"
   ]
  },
  {
   "cell_type": "code",
   "execution_count": 149,
   "metadata": {},
   "outputs": [],
   "source": [
    "def RegressTrainEval(regressor):\n",
    "\n",
    "    def FindMtype(regressor):\n",
    "        # Intstantiate Model\n",
    "        M = regressor\n",
    "        # Learn what it is\n",
    "        Mtype = type(M).__name__\n",
    "        \n",
    "        return Mtype\n",
    "    \n",
    "    Mtype = FindMtype(regressor)\n",
    "#     print('\\033[1m' + Mtype + ':' + '\\033[0m')\n",
    "\n",
    "\n",
    "    if Mtype == \"LinearRegression\":\n",
    "        \n",
    "        #first without cross val\n",
    "        fitModel = regressor.fit(train)\n",
    "\n",
    "        # Load the Summary\n",
    "        trainingSummary = fitModel.summary\n",
    "        \n",
    "        # Print the coefficients and intercept for linear regression\n",
    "        print('\\033[1m' + \"Linear Regression Model Training Summary without cross validation:\"+ '\\033[0m')\n",
    "        print(\" \")\n",
    "        print(\"Intercept: %s\" % str(fitModel.intercept))\n",
    "        print(\"\")\n",
    "        print(\"Coefficients: \")\n",
    "        coeff_array = fitModel.coefficients.toArray()\n",
    "        # Convert from numpy array to list\n",
    "        coeff_list = []\n",
    "        for x in coeff_array:\n",
    "            coeff_list.append(float(x))\n",
    "        result = spark.createDataFrame(zip(input_columns,coeff_list), schema=['feature','coeff'])\n",
    "        print(result.orderBy(result[\"coeff\"].desc()).show(truncate=False))\n",
    "\n",
    "\n",
    "\n",
    "        # Summarize the model over the training set and print out some metrics\n",
    "        print(\"numIterations: %d\" % trainingSummary.totalIterations)\n",
    "        print(\"objectiveHistory: (scaled loss + regularization) at each iteration \\n %s\" % str(trainingSummary.objectiveHistory))\n",
    "        print(\"\")\n",
    "        \n",
    "        # Print the Errors\n",
    "        print(\"Training RMSE: %f\" % trainingSummary.rootMeanSquaredError)\n",
    "        print(\"Training r2: %f\" % trainingSummary.r2)\n",
    "        print(\"\")\n",
    "        \n",
    "\n",
    "        # Now load the test results\n",
    "        test_results = fitModel.evaluate(test)\n",
    "\n",
    "        # And print them\n",
    "        print(\"Test RMSE: {}\".format(test_results.rootMeanSquaredError))\n",
    "        print(\"Test r2: {}\".format(test_results.r2))\n",
    "        print(\"\")\n",
    "        \n",
    "        #Now train with cross val\n",
    "        paramGrid = (ParamGridBuilder() \\\n",
    "#              .addGrid(regressor.maxIter, [10, 15]) \\\n",
    "             .addGrid(regressor.regParam, [0.1, 0.01]) \\\n",
    "             .build())\n",
    "        \n",
    "        #Evaluator\n",
    "        revaluator = RegressionEvaluator(metricName=\"rmse\")\n",
    "        \n",
    "        #Cross Validator requires all of the following parameters:\n",
    "        crossval = CrossValidator(estimator=regressor,\n",
    "                                  estimatorParamMaps=paramGrid,\n",
    "                                  evaluator=revaluator,\n",
    "                                  numFolds=2) # 3 is best practice\n",
    "        \n",
    "        print('\\033[1m' + \"Linear Regression Model Summary WITH cross validation:\"+ '\\033[0m')\n",
    "        print(\" \")\n",
    "        # Run cross validations\n",
    "        fitModel = crossval.fit(train)\n",
    "        \n",
    "        #save model\n",
    "        global LR_BestModel \n",
    "        LR_BestModel = fitModel.bestModel\n",
    "        \n",
    "        print(\"Coefficients: \")\n",
    "        coeff_array = LR_BestModel.coefficients.toArray()\n",
    "        # Convert from numpy array to list\n",
    "        coeff_list = []\n",
    "        for x in coeff_array:\n",
    "            coeff_list.append(float(x))\n",
    "        result = spark.createDataFrame(zip(input_columns,coeff_list), schema=['feature','coeff'])\n",
    "        print(result.orderBy(result[\"coeff\"].desc()).show(truncate=False))\n",
    "        \n",
    "        # Get Model Summary Statistics\n",
    "        ModelSummary = fitModel.bestModel.summary\n",
    "        \n",
    "        print(\"Coefficient Standard Errors: \")\n",
    "        coeff_ste = ModelSummary.coefficientStandardErrors\n",
    "        result = spark.createDataFrame(zip(input_columns,coeff_ste), schema=['feature','coeff std error'])\n",
    "        print(result.orderBy(result[\"coeff std error\"].desc()).show(truncate=False))\n",
    "        print(\" \")\n",
    "        print(\"P Values: \") \n",
    "        # Then zip with input_columns list and create a df\n",
    "        pvalues = ModelSummary.pValues\n",
    "        result = spark.createDataFrame(zip(input_columns,pvalues), schema=['feature','P-Value'])\n",
    "        print(result.orderBy(result[\"P-Value\"].desc()).show(truncate=False))\n",
    "        print(\" \")\n",
    "        \n",
    "        # Use test set here so we can measure the accuracy of our model on new data\n",
    "        ModelPredictions = fitModel.transform(test)\n",
    "        \n",
    "        # cvModel uses the best model found from the Cross Validation\n",
    "        # Evaluate best model\n",
    "        test_results = revaluator.evaluate(ModelPredictions)\n",
    "        print('RMSE:', test_results)\n",
    "    \n",
    "        # Set the column names to match the external results dataframe that we will join with later:\n",
    "        columns = ['Regressor', 'Result']\n",
    "        \n",
    "        # Format results and return\n",
    "        rmse_str = [str(test_results)] #make this a string and convert to a list\n",
    "        Mtype = [Mtype] #make this a string\n",
    "        result = spark.createDataFrame(zip(Mtype,rmse_str), schema=columns)\n",
    "        result = result.withColumn('Result',result.Result.substr(0, 5))\n",
    "        return result\n",
    "\n",
    "    else:\n",
    "\n",
    "        # Add parameters of your choice here:\n",
    "        if Mtype in(\"RandomForestRegressor\"):\n",
    "            paramGrid = (ParamGridBuilder() \\\n",
    "#                            .addGrid(regressor.maxDepth, [2, 5, 10])\n",
    "#                            .addGrid(regressor.maxBins, [5, 10, 20])\n",
    "                           .addGrid(regressor.numTrees, [5, 20])\n",
    "                         .build())\n",
    "\n",
    "        # Add parameters of your choice here:\n",
    "        if Mtype in(\"GBTRegressor\"):\n",
    "            paramGrid = (ParamGridBuilder() \\\n",
    "#                          .addGrid(regressor.maxDepth, [2, 5, 10, 20, 30]) \\\n",
    "                         .addGrid(regressor.maxBins, [10, 20]) \\\n",
    "                         .addGrid(regressor.maxIter, [10, 15])\n",
    "                         .build())\n",
    "\n",
    "        # Add parameters of your choice here:\n",
    "        if Mtype in(\"DecisionTreeRegressor\"):\n",
    "            paramGrid = (ParamGridBuilder() \\\n",
    "#                          .addGrid(regressor.maxDepth, [2, 5, 10, 20, 30]) \\\n",
    "                         .addGrid(regressor.maxBins, [10, 20, 40]) \\\n",
    "                         .build())\n",
    "\n",
    "        #Cross Validator requires all of the following parameters:\n",
    "        crossval = CrossValidator(estimator=regressor,\n",
    "                                  estimatorParamMaps=paramGrid,\n",
    "                                  evaluator=RegressionEvaluator(metricName=\"rmse\"),\n",
    "                                  numFolds=2) # 3 is best practice\n",
    "        # Fit Model: Run cross-validation, and choose the best set of parameters.\n",
    "        fitModel = crossval.fit(train)\n",
    "        \n",
    "        # Get Best Model\n",
    "        BestModel = fitModel.bestModel\n",
    "\n",
    "        # FEATURE IMPORTANCES\n",
    "        # Estimate of the importance of each feature.\n",
    "        # Each feature’s importance is the average of its importance across all trees \n",
    "        # in the ensemble The importance vector is normalized to sum to 1. \n",
    "        print(\" \")\n",
    "        print('\\033[1m' + Mtype,\" Feature Importances\"+ '\\033[0m')\n",
    "        print(\"(Scores add up to 1)\")\n",
    "        print(\"Lowest score is the least important\")\n",
    "        print(\" \")\n",
    "        featureImportances = BestModel.featureImportances.toArray()\n",
    "        # Convert from numpy array to list\n",
    "        imp_scores = []\n",
    "        for x in featureImportances:\n",
    "            imp_scores.append(float(x))\n",
    "        # Then zip with input_columns list and create a df\n",
    "        result = spark.createDataFrame(zip(input_columns,imp_scores), schema=['feature','score'])\n",
    "        print(result.orderBy(result[\"score\"].desc()).show(truncate=False))\n",
    "        \n",
    "        #Create Global Variables for feature importances and models\n",
    "        if Mtype in(\"DecisionTreeRegressor\"):\n",
    "            global DT_featureImportances\n",
    "            DT_featureImportances = BestModel.featureImportances.toArray()\n",
    "            global DT_BestModel \n",
    "            DT_BestModel = fitModel.bestModel\n",
    "        if Mtype in(\"GBTRegressor\"):\n",
    "            global GBT_featureImportances\n",
    "            GBT_featureImportances = BestModel.featureImportances.toArray()\n",
    "            global GBT_BestModel \n",
    "            GBT_BestModel = fitModel.bestModel\n",
    "        if Mtype in(\"RandomForestRegressor\"):\n",
    "            global RF_featureImportances\n",
    "            RF_featureImportances = BestModel.featureImportances.toArray()\n",
    "            global RF_BestModel \n",
    "            RF_BestModel = fitModel.bestModel\n",
    "                    \n",
    "        # Set the column names to match the external results dataframe that we will join with later:\n",
    "        columns = ['Regressor', 'Result']\n",
    "        \n",
    "        # Make predictions.\n",
    "        predictions = fitModel.transform(test)\n",
    "        # Select (prediction, true label) and compute test error\n",
    "        evaluator = RegressionEvaluator(metricName=\"rmse\")\n",
    "        rmse = evaluator.evaluate(predictions)\n",
    "        rmse_str = [str(rmse)] #make this a string and convert to a list\n",
    "        Mtype = [Mtype] #make this a string\n",
    "        result = spark.createDataFrame(zip(Mtype,rmse_str), schema=columns)\n",
    "        # Clean up the Result column and output\n",
    "        result = result.withColumn('Result',result.Result.substr(0, 5))\n",
    "        return result"
   ]
  },
  {
   "cell_type": "code",
   "execution_count": 150,
   "metadata": {},
   "outputs": [
    {
     "name": "stdout",
     "output_type": "stream",
     "text": [
      "\u001b[1mLinear Regression Model Training Summary without cross validation:\u001b[0m\n",
      " \n",
      "Intercept: -117.86022484471371\n",
      "\n",
      "Coefficients: \n",
      "+----------------+--------------------+\n",
      "|feature         |coeff               |\n",
      "+----------------+--------------------+\n",
      "|age             |9.268741426246327   |\n",
      "|superplasticizer|0.17855660141179472 |\n",
      "|cement          |0.1449855322358295  |\n",
      "|slag            |0.12730570890649553 |\n",
      "|flyash          |0.1071912644214361  |\n",
      "|fineaggregate   |0.05051283930901786 |\n",
      "|coarseaggregate |0.0429305382260909  |\n",
      "|water           |-0.07905822831464046|\n",
      "+----------------+--------------------+\n",
      "\n",
      "None\n",
      "numIterations: 0\n",
      "objectiveHistory: (scaled loss + regularization) at each iteration \n",
      " [0.0]\n",
      "\n",
      "Training RMSE: 7.075974\n",
      "Training r2: 0.820207\n",
      "\n",
      "Test RMSE: 7.6135425196404105\n",
      "Test r2: 0.7922752905245978\n",
      "\n",
      "\u001b[1mLinear Regression Model Summary WITH cross validation:\u001b[0m\n",
      " \n",
      "Coefficients: \n",
      "+----------------+--------------------+\n",
      "|feature         |coeff               |\n",
      "+----------------+--------------------+\n",
      "|age             |9.258785925468294   |\n",
      "|superplasticizer|0.17848720403705928 |\n",
      "|cement          |0.14348321862224034 |\n",
      "|slag            |0.12557088519412932 |\n",
      "|flyash          |0.10508814548094988 |\n",
      "|fineaggregate   |0.048776567656192295|\n",
      "|coarseaggregate |0.04152411080456393 |\n",
      "|water           |-0.08424189803400439|\n",
      "+----------------+--------------------+\n",
      "\n",
      "None\n",
      "Coefficient Standard Errors: \n",
      "+----------------+--------------------+\n",
      "|feature         |coeff std error     |\n",
      "+----------------+--------------------+\n",
      "|age             |0.22799539423785128 |\n",
      "|superplasticizer|0.07007644851117517 |\n",
      "|water           |0.030434723360144633|\n",
      "|flyash          |0.009647227437283998|\n",
      "|fineaggregate   |0.00814200705773151 |\n",
      "|slag            |0.007651223215371815|\n",
      "|coarseaggregate |0.007197548380353871|\n",
      "|cement          |0.006535243597882018|\n",
      "+----------------+--------------------+\n",
      "\n",
      "None\n",
      " \n",
      "P Values: \n",
      "+----------------+---------------------+\n",
      "|feature         |P-Value              |\n",
      "+----------------+---------------------+\n",
      "|superplasticizer|0.01104855698929752  |\n",
      "|water           |0.005770026812935036 |\n",
      "|coarseaggregate |1.1342913497358609E-8|\n",
      "|fineaggregate   |3.1432692004784712E-9|\n",
      "|flyash          |0.0                  |\n",
      "|age             |0.0                  |\n",
      "|slag            |0.0                  |\n",
      "|cement          |0.0                  |\n",
      "+----------------+---------------------+\n",
      "\n",
      "None\n",
      " \n",
      "RMSE: 7.598089398800802\n",
      " \n",
      "\u001b[1mDecisionTreeRegressor  Feature Importances\u001b[0m\n",
      "(Scores add up to 1)\n",
      "Lowest score is the least important\n",
      " \n",
      "+----------------+--------------------+\n",
      "|feature         |score               |\n",
      "+----------------+--------------------+\n",
      "|age             |0.43242480548115797 |\n",
      "|cement          |0.2202923586560778  |\n",
      "|superplasticizer|0.2068295821610013  |\n",
      "|flyash          |0.0606517035309669  |\n",
      "|fineaggregate   |0.032787357304880346|\n",
      "|slag            |0.022309795684605355|\n",
      "|water           |0.01407206309637747 |\n",
      "|coarseaggregate |0.010632334084932875|\n",
      "+----------------+--------------------+\n",
      "\n",
      "None\n",
      " \n",
      "\u001b[1mRandomForestRegressor  Feature Importances\u001b[0m\n",
      "(Scores add up to 1)\n",
      "Lowest score is the least important\n",
      " \n",
      "+----------------+--------------------+\n",
      "|feature         |score               |\n",
      "+----------------+--------------------+\n",
      "|age             |0.334967030725398   |\n",
      "|cement          |0.23073571827486128 |\n",
      "|water           |0.15644448722976959 |\n",
      "|superplasticizer|0.08783707166800597 |\n",
      "|slag            |0.054717795321926055|\n",
      "|flyash          |0.04805222525119447 |\n",
      "|fineaggregate   |0.04471137630438996 |\n",
      "|coarseaggregate |0.0425342952244546  |\n",
      "+----------------+--------------------+\n",
      "\n",
      "None\n",
      " \n",
      "\u001b[1mGBTRegressor  Feature Importances\u001b[0m\n",
      "(Scores add up to 1)\n",
      "Lowest score is the least important\n",
      " \n",
      "+----------------+--------------------+\n",
      "|feature         |score               |\n",
      "+----------------+--------------------+\n",
      "|age             |0.3218552887484269  |\n",
      "|cement          |0.22253746882930173 |\n",
      "|water           |0.116055282154974   |\n",
      "|slag            |0.0936846170714487  |\n",
      "|superplasticizer|0.09276822316108538 |\n",
      "|coarseaggregate |0.0530837031729135  |\n",
      "|fineaggregate   |0.051579047365399124|\n",
      "|flyash          |0.04843636949645059 |\n",
      "+----------------+--------------------+\n",
      "\n",
      "None\n",
      "+---------------------+------+\n",
      "|Regressor            |Result|\n",
      "+---------------------+------+\n",
      "|LinearRegression     |7.598 |\n",
      "|DecisionTreeRegressor|7.976 |\n",
      "|RandomForestRegressor|7.880 |\n",
      "|GBTRegressor         |5.894 |\n",
      "+---------------------+------+\n",
      "\n"
     ]
    }
   ],
   "source": [
    "# Run!\n",
    "regressors = [\n",
    "                LinearRegression()\n",
    "                ,DecisionTreeRegressor()\n",
    "                ,RandomForestRegressor()\n",
    "                ,GBTRegressor()\n",
    "                ] \n",
    "    \n",
    "#set up your results table\n",
    "columns = ['Regressor', 'Result']\n",
    "vals = [(\"Place Holder\",\"N/A\")]\n",
    "results = spark.createDataFrame(vals, columns)\n",
    "\n",
    "for regressor in regressors:\n",
    "    new_result = RegressTrainEval(regressor)\n",
    "    results = results.union(new_result)\n",
    "results = results.where(\"Regressor!='Place Holder'\")\n",
    "results.show(100,False)"
   ]
  },
  {
   "cell_type": "code",
   "execution_count": 151,
   "metadata": {},
   "outputs": [],
   "source": [
    "# now I will train GBTRegressor which have the best result"
   ]
  },
  {
   "cell_type": "code",
   "execution_count": 152,
   "metadata": {},
   "outputs": [
    {
     "name": "stdout",
     "output_type": "stream",
     "text": [
      "Root Mean Squared Error (RMSE) on test data = 6.26259\n"
     ]
    }
   ],
   "source": [
    "model = GBTRegressor()\n",
    "fitModel = model.fit(train)\n",
    "# Make predictions.\n",
    "predictions = fitModel.transform(test)\n",
    "# Select (prediction, true label) and compute test error\n",
    "evaluator = RegressionEvaluator(metricName=\"rmse\")\n",
    "rmse = evaluator.evaluate(predictions)\n",
    "print(\"Root Mean Squared Error (RMSE) on test data = %g\" % rmse)"
   ]
  },
  {
   "cell_type": "markdown",
   "metadata": {},
   "source": [
    "## 1. Which features are the strongest predictors of cement strength?\n",
    "\n",
    "Build your own ML model to figure this one out! This would be good information to give to our client so the sales reps can focus their efforts on certian ingredients to provide recommendations on. For example, if our clients had a customer that was struggling with their cement breaking, we could trouble shoot with them by starting with the factors that we know are important. "
   ]
  },
  {
   "cell_type": "code",
   "execution_count": 153,
   "metadata": {},
   "outputs": [
    {
     "data": {
      "text/plain": [
       "array([0.17116722, 0.09007042, 0.03650182, 0.12054472, 0.11027397,\n",
       "       0.08697431, 0.0773992 , 0.30706835])"
      ]
     },
     "execution_count": 153,
     "metadata": {},
     "output_type": "execute_result"
    }
   ],
   "source": [
    "GBT_featureImportances = fitModel.featureImportances.toArray()\n",
    "GBT_featureImportances"
   ]
  },
  {
   "cell_type": "code",
   "execution_count": 154,
   "metadata": {},
   "outputs": [],
   "source": [
    "# here I will create dataframe for the feature importance"
   ]
  },
  {
   "cell_type": "code",
   "execution_count": 155,
   "metadata": {},
   "outputs": [
    {
     "data": {
      "text/html": [
       "<div>\n",
       "<style scoped>\n",
       "    .dataframe tbody tr th:only-of-type {\n",
       "        vertical-align: middle;\n",
       "    }\n",
       "\n",
       "    .dataframe tbody tr th {\n",
       "        vertical-align: top;\n",
       "    }\n",
       "\n",
       "    .dataframe thead th {\n",
       "        text-align: right;\n",
       "    }\n",
       "</style>\n",
       "<table border=\"1\" class=\"dataframe\">\n",
       "  <thead>\n",
       "    <tr style=\"text-align: right;\">\n",
       "      <th></th>\n",
       "      <th>features</th>\n",
       "      <th>values</th>\n",
       "    </tr>\n",
       "  </thead>\n",
       "  <tbody>\n",
       "    <tr>\n",
       "      <th>0</th>\n",
       "      <td>cement</td>\n",
       "      <td>0.171167</td>\n",
       "    </tr>\n",
       "    <tr>\n",
       "      <th>1</th>\n",
       "      <td>slag</td>\n",
       "      <td>0.090070</td>\n",
       "    </tr>\n",
       "    <tr>\n",
       "      <th>2</th>\n",
       "      <td>flyash</td>\n",
       "      <td>0.036502</td>\n",
       "    </tr>\n",
       "    <tr>\n",
       "      <th>3</th>\n",
       "      <td>water</td>\n",
       "      <td>0.120545</td>\n",
       "    </tr>\n",
       "    <tr>\n",
       "      <th>4</th>\n",
       "      <td>superplasticizer</td>\n",
       "      <td>0.110274</td>\n",
       "    </tr>\n",
       "    <tr>\n",
       "      <th>5</th>\n",
       "      <td>coarseaggregate</td>\n",
       "      <td>0.086974</td>\n",
       "    </tr>\n",
       "    <tr>\n",
       "      <th>6</th>\n",
       "      <td>fineaggregate</td>\n",
       "      <td>0.077399</td>\n",
       "    </tr>\n",
       "    <tr>\n",
       "      <th>7</th>\n",
       "      <td>age</td>\n",
       "      <td>0.307068</td>\n",
       "    </tr>\n",
       "  </tbody>\n",
       "</table>\n",
       "</div>"
      ],
      "text/plain": [
       "           features    values\n",
       "0            cement  0.171167\n",
       "1              slag  0.090070\n",
       "2            flyash  0.036502\n",
       "3             water  0.120545\n",
       "4  superplasticizer  0.110274\n",
       "5   coarseaggregate  0.086974\n",
       "6     fineaggregate  0.077399\n",
       "7               age  0.307068"
      ]
     },
     "execution_count": 155,
     "metadata": {},
     "output_type": "execute_result"
    }
   ],
   "source": [
    "import pandas as pd\n",
    "importance_df = pd.DataFrame(zip(df.columns[:-1],GBT_featureImportances), columns=['features', 'values'])\n",
    "importance_df"
   ]
  },
  {
   "cell_type": "markdown",
   "metadata": {},
   "source": [
    "## 2. For the following given inputs, what would be the estimated cement strength?\n",
    "\n",
    "- Cement: 540\n",
    "- Blast Furnace Slag: 0\n",
    "- Fly Ash: 0\n",
    "- Water: 162\n",
    "- Superplasticizer: 2.5\n",
    "- Coarse Aggregate: 1040\n",
    "- Fine Aggregate: 676\n",
    "- Age: 28\n",
    "\n",
    "The correct answer is 79.99. Let's how close your prediction is!"
   ]
  },
  {
   "cell_type": "code",
   "execution_count": 156,
   "metadata": {},
   "outputs": [],
   "source": [
    "Cement = 540\n",
    "Blast_Furnace_Slag = 0\n",
    "Fly_Ash = 0\n",
    "Water = 162\n",
    "Superplasticizer = 2.5\n",
    "Coarse_Aggregate = 1040\n",
    "Fine_Aggregate = 676\n",
    "Age = 28"
   ]
  },
  {
   "cell_type": "code",
   "execution_count": 157,
   "metadata": {},
   "outputs": [
    {
     "name": "stdout",
     "output_type": "stream",
     "text": [
      "+--------------------+\n",
      "|            features|\n",
      "+--------------------+\n",
      "|[540.0,0.0,0.0,16...|\n",
      "+--------------------+\n",
      "\n"
     ]
    }
   ],
   "source": [
    "data = Row(cement=540, slag=0, flyash=0, water=162, superplasticizer=2.5, coarseaggregate=1040, \n",
    "           fineaggregate=676, age=28)\n",
    "\n",
    "# create a DataFrame from the Row object\n",
    "tmp = spark.createDataFrame([data])\n",
    "\n",
    "input_columns = tmp.columns[:-1]\n",
    "dependent_var = 'csMPa'\n",
    "\n",
    "assembler = VectorAssembler(inputCols=tmp.columns,outputCol='features')\n",
    "test_data = assembler.transform(tmp).select('features')\n",
    "\n",
    "test_data.show(5)\n",
    "\n"
   ]
  },
  {
   "cell_type": "code",
   "execution_count": 158,
   "metadata": {},
   "outputs": [
    {
     "name": "stdout",
     "output_type": "stream",
     "text": [
      "+--------------------+---------------+\n",
      "|            features|     prediction|\n",
      "+--------------------+---------------+\n",
      "|[540.0,0.0,0.0,16...|80.784878768755|\n",
      "+--------------------+---------------+\n",
      "\n"
     ]
    }
   ],
   "source": [
    "fitModel.transform(test_data).show()"
   ]
  },
  {
   "cell_type": "code",
   "execution_count": 159,
   "metadata": {},
   "outputs": [],
   "source": [
    "# the answer is 76.61"
   ]
  },
  {
   "cell_type": "markdown",
   "metadata": {},
   "source": [
    "## 3. Now see if you can ask users to input their own value for Age and return a predicted value for the cement stength. \n",
    "\n",
    "We did not cover this is in the lecture so you'll have to put your thinking cap on. Accepting user input in PySpark works just like it does in traditional Python.\n",
    "<br>\n",
    "\n",
    "val = input(\"Enter your value: \") "
   ]
  },
  {
   "cell_type": "code",
   "execution_count": 167,
   "metadata": {},
   "outputs": [
    {
     "name": "stdin",
     "output_type": "stream",
     "text": [
      "user input 10000000\n"
     ]
    },
    {
     "name": "stdout",
     "output_type": "stream",
     "text": [
      "+--------------------+---------------+\n",
      "|            features|     prediction|\n",
      "+--------------------+---------------+\n",
      "|[540.0,0.0,0.0,16...|80.784878768755|\n",
      "+--------------------+---------------+\n",
      "\n"
     ]
    }
   ],
   "source": [
    "age_input = int(input(\"user input\"))\n",
    "data = Row(cement=540, slag=0, flyash=0, water=162, superplasticizer=2.5, coarseaggregate=1040, \n",
    "           fineaggregate=676, age=age_input)\n",
    "\n",
    "# create a DataFrame from the Row object\n",
    "tmp = spark.createDataFrame([data])\n",
    "\n",
    "input_columns = tmp.columns[:-1]\n",
    "dependent_var = 'csMPa'\n",
    "\n",
    "assembler = VectorAssembler(inputCols=tmp.columns,outputCol='features')\n",
    "final_data = assembler.transform(tmp).select('features')\n",
    "fitModel.transform(final_data).show()"
   ]
  },
  {
   "cell_type": "markdown",
   "metadata": {},
   "source": [
    "## 4. Make recommendations of optimal values for cement ingredients (our features)\n",
    "\n",
    "See if you can find the optimal amount of cement to recommend holding the rest of the values from the previous question constant, assuming that the higher the cement strength value the better. "
   ]
  },
  {
   "cell_type": "code",
   "execution_count": 163,
   "metadata": {},
   "outputs": [],
   "source": [
    "best_pred_pred = 0\n",
    "best_cement = 0\n",
    "for i in range(0,1000):\n",
    "    data = Row(cement=i, slag=0, flyash=0, water=162, superplasticizer=2.5, coarseaggregate=1040, \n",
    "           fineaggregate=676, age=28)\n",
    "\n",
    "    # create a DataFrame from the Row object\n",
    "    tmp = spark.createDataFrame([data])\n",
    "\n",
    "    input_columns = tmp.columns[:-1]\n",
    "    dependent_var = 'csMPa'\n",
    "\n",
    "    assembler = VectorAssembler(inputCols=tmp.columns,outputCol='features')\n",
    "    output = assembler.transform(tmp).select('features')\n",
    "    pred = fitModel.transform(output).select('prediction').collect()[0][0]\n",
    "    if pred > best_pred:\n",
    "        best_pred = pred\n",
    "        best_cement = i"
   ]
  },
  {
   "cell_type": "code",
   "execution_count": 164,
   "metadata": {},
   "outputs": [
    {
     "data": {
      "text/plain": [
       "80.784878768755"
      ]
     },
     "execution_count": 164,
     "metadata": {},
     "output_type": "execute_result"
    }
   ],
   "source": [
    "best_pred"
   ]
  },
  {
   "cell_type": "code",
   "execution_count": 165,
   "metadata": {},
   "outputs": [
    {
     "data": {
      "text/plain": [
       "503"
      ]
     },
     "execution_count": 165,
     "metadata": {},
     "output_type": "execute_result"
    }
   ],
   "source": [
    "best_cement"
   ]
  },
  {
   "cell_type": "markdown",
   "metadata": {},
   "source": [
    "# so the best value for cement is 503"
   ]
  },
  {
   "cell_type": "code",
   "execution_count": null,
   "metadata": {},
   "outputs": [],
   "source": []
  }
 ],
 "metadata": {
  "kernelspec": {
   "display_name": "Python 3 (ipykernel)",
   "language": "python",
   "name": "python3"
  },
  "language_info": {
   "codemirror_mode": {
    "name": "ipython",
    "version": 3
   },
   "file_extension": ".py",
   "mimetype": "text/x-python",
   "name": "python",
   "nbconvert_exporter": "python",
   "pygments_lexer": "ipython3",
   "version": "3.10.8"
  }
 },
 "nbformat": 4,
 "nbformat_minor": 4
}
